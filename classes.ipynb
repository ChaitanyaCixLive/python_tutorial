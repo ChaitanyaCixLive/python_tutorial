{
 "cells": [
  {
   "cell_type": "markdown",
   "metadata": {},
   "source": [
    "# A Quick Look at Python Classes"
   ]
  },
  {
   "cell_type": "code",
   "execution_count": 57,
   "metadata": {
    "collapsed": false
   },
   "outputs": [
    {
     "name": "stdout",
     "output_type": "stream",
     "text": [
      "678678\n",
      "Alex\n",
      "['Python', 'Soical Media Intelligence']\n",
      "Alex has uid 678678, and is taking: ['Python', 'Soical Media Intelligence']\n",
      "\n",
      "\n",
      "    A student class, holding name, id, and courses taken...\n",
      "    \n"
     ]
    }
   ],
   "source": [
    "class Student(object):\n",
    "    \"\"\"\n",
    "    A student class, holding name, id, and courses taken...\n",
    "    \"\"\"\n",
    "    def __init__(self, name, student_id, courses):\n",
    "        self.name=name\n",
    "        self.student_id = student_id\n",
    "        self.courses = courses\n",
    "\n",
    "    def get_id(self):\n",
    "        return self.student_id\n",
    "        \n",
    "    def get_name(self):\n",
    "        return self.name\n",
    "\n",
    "    def get_courses(self):\n",
    "        return self.courses\n",
    "\n",
    "    def __str__(self):\n",
    "        return \"%s has uid %s, and is taking: %s\\n\" % (self.name, self.student_id, self.courses)\n",
    "\n",
    "#--------------------------------------------------------------------\n",
    "alex=Student(\"Alex\", 678678, [\"Python\", \"Soical Media Intelligence\"])\n",
    "print(alex.get_id())\n",
    "print(alex.get_name())\n",
    "print(alex.get_courses())\n",
    "#----------\n",
    "print(alex)\n",
    "print(Student.__doc__)\n",
    "#---------------------------------------------------------------------"
   ]
  },
  {
   "cell_type": "code",
   "execution_count": 18,
   "metadata": {
    "collapsed": false
   },
   "outputs": [
    {
     "name": "stdout",
     "output_type": "stream",
     "text": [
      "7675456353\n",
      "Sara\n",
      "Deep Learning\n",
      "Sara has uid 7675456353, and is taking: Deep Learning\n",
      "\n"
     ]
    }
   ],
   "source": [
    "#--------------------------------------------------------------------\n",
    "sara=Student(\"Sara\", 7675456353, \"Deep Learning\")\n",
    "print(sara.get_id())\n",
    "print(sara.get_name())\n",
    "print(sara.get_courses())\n",
    "#----------\n",
    "#print(sara)\n",
    "#---------------------------------------------------------------------"
   ]
  },
  {
   "cell_type": "code",
   "execution_count": null,
   "metadata": {
    "collapsed": true
   },
   "outputs": [],
   "source": []
  },
  {
   "cell_type": "code",
   "execution_count": 50,
   "metadata": {
    "collapsed": false
   },
   "outputs": [
    {
     "name": "stdout",
     "output_type": "stream",
     "text": [
      "- Title of the Book: Deep Learning for NLP\n",
      "- Price of the Book: 100\n",
      "- New price of the Book: 180\n"
     ]
    }
   ],
   "source": [
    "class Book(object):\n",
    "    \"\"\"\n",
    "    A Book class with some getters! (Bad doc!)\n",
    "    \"\"\"\n",
    "    def __init__(self, title, b_id, price):\n",
    "        self.title = title\n",
    "        self.b_id = b_id\n",
    "        self.price = price\n",
    "\n",
    "    def get_id(self):\n",
    "        return self.b_id\n",
    "        \n",
    "    def get_title(self):\n",
    "        return self.title\n",
    "\n",
    "    def get_price(self):\n",
    "        return self.price\n",
    "    \n",
    "    def update_price(self, price):\n",
    "        self.price =price\n",
    "        \n",
    "deep_learning=Book(\"Deep Learning for NLP\", \"888-22-33308\", 100)\n",
    "\n",
    "print('- Title of the Book: {}').format(deep_learning.get_title())\n",
    "print('- Price of the Book: {}').format(deep_learning.get_price())\n",
    "# Update the price\n",
    "deep_learning.update_price(180)\n",
    "print('- New price of the Book: {}').format(deep_learning.get_price())"
   ]
  },
  {
   "cell_type": "code",
   "execution_count": 55,
   "metadata": {
    "collapsed": false
   },
   "outputs": [
    {
     "name": "stdout",
     "output_type": "stream",
     "text": [
      "- Title of the Book: Deep Learning for NLP\n",
      "- Price of the Book: 100\n",
      "- New price of the Book: 180\n"
     ]
    }
   ],
   "source": [
    "class Book(object):\n",
    "    \"\"\"\n",
    "    A Book class with some getters! (Bad doc!)\n",
    "    \"\"\"\n",
    "    def __init__(self, title, b_id, price):\n",
    "        self.title = title\n",
    "        self.b_id = b_id\n",
    "        self.price = price\n",
    "\n",
    "#     def get_id(self):\n",
    "#         return self.b_id\n",
    "        \n",
    "#     def get_title(self):\n",
    "#         return self.title\n",
    "\n",
    "#     def get_price(self):\n",
    "#         return self.price\n",
    "    \n",
    "    def update_price(self, new_price):\n",
    "        self.price = new_price\n",
    "        \n",
    "deep_learning=Book(\"Deep Learning for NLP\", \"888-22-33308\", 100)\n",
    "\n",
    "print('- Title of the Book: {}').format(deep_learning.title)\n",
    "print('- Price of the Book: {}').format(deep_learning.price)\n",
    "# Update the price\n",
    "deep_learning.update_price(180)\n",
    "print('- New price of the Book: {}').format(deep_learning.price)"
   ]
  },
  {
   "cell_type": "code",
   "execution_count": 43,
   "metadata": {
    "collapsed": false
   },
   "outputs": [
    {
     "name": "stdout",
     "output_type": "stream",
     "text": [
      "\n",
      "    A Book class with some getters! (Bad doc!)\n",
      "    \n"
     ]
    }
   ],
   "source": [
    "print(deep_learning.__doc__)"
   ]
  },
  {
   "cell_type": "markdown",
   "metadata": {},
   "source": [
    "## Subclassing"
   ]
  },
  {
   "cell_type": "code",
   "execution_count": 45,
   "metadata": {
    "collapsed": false
   },
   "outputs": [
    {
     "name": "stdout",
     "output_type": "stream",
     "text": [
      "- Issue of the Magazine: 12-2\n",
      "- Title of the Magazine: Time\n",
      "- Price of the Magazine: 10\n",
      "- New price of the Magazine: 15\n"
     ]
    }
   ],
   "source": [
    "class Magazine(Book):\n",
    "    \"\"\"\n",
    "    Subclass of the Book class...\n",
    "    Only adds the method to get issue info.\n",
    "    \"\"\"\n",
    "    def __init__(self, title, b_id, price, issue):\n",
    "        # Just invoke the __init__ for the parent class\n",
    "        Book.__init__(self, title, b_id, price)\n",
    "        self.issue = issue\n",
    "\n",
    "    def get_issue(self):\n",
    "        return self.issue\n",
    "        \n",
    "time=Magazine(\"Time\", \"000-22-4444\", 10, \"12-2\")\n",
    "\n",
    "print('- Issue of the Magazine: {}').format(time.get_issue())\n",
    "#-----------------------------------------------------------\n",
    "# Everything else works like it should with the parent class\n",
    "print('- Title of the Magazine: {}').format(time.get_title())\n",
    "print('- Price of the Magazine: {}').format(time.get_price())\n",
    "# Update the price\n",
    "time.update_price(15)\n",
    "print('- New price of the Magazine: {}').format(time.get_price())"
   ]
  },
  {
   "cell_type": "code",
   "execution_count": 46,
   "metadata": {
    "collapsed": false
   },
   "outputs": [
    {
     "name": "stdout",
     "output_type": "stream",
     "text": [
      "\n",
      "    Subclass of the Book class...\n",
      "    Only adds the method to get issue info.\n",
      "    \n"
     ]
    }
   ],
   "source": [
    "# Note: Subclass does not inherit doc from parent class:\n",
    "print(time.__doc__)"
   ]
  }
 ],
 "metadata": {
  "kernelspec": {
   "display_name": "Python 2",
   "language": "python",
   "name": "python2"
  },
  "language_info": {
   "codemirror_mode": {
    "name": "ipython",
    "version": 2
   },
   "file_extension": ".py",
   "mimetype": "text/x-python",
   "name": "python",
   "nbconvert_exporter": "python",
   "pygments_lexer": "ipython2",
   "version": "2.7.12"
  }
 },
 "nbformat": 4,
 "nbformat_minor": 0
}
