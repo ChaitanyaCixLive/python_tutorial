{
 "cells": [
  {
   "cell_type": "markdown",
   "metadata": {
    "collapsed": true
   },
   "source": [
    "# A Vector Space Model, with scikit-learn Naive Bayes"
   ]
  },
  {
   "cell_type": "code",
   "execution_count": 1,
   "metadata": {
    "collapsed": false
   },
   "outputs": [
    {
     "name": "stderr",
     "output_type": "stream",
     "text": [
      "/Users/mam/anaconda/lib/python2.7/site-packages/matplotlib/font_manager.py:273: UserWarning: Matplotlib is building the font cache using fc-list. This may take a moment.\n",
      "  warnings.warn('Matplotlib is building the font cache using fc-list. This may take a moment.')\n"
     ]
    }
   ],
   "source": [
    "%matplotlib inline\n",
    "import csv\n",
    "import pandas\n",
    "import sklearn\n",
    "import numpy as np\n",
    "from sklearn.feature_extraction.text import CountVectorizer, TfidfTransformer\n",
    "from sklearn.naive_bayes import MultinomialNB\n",
    "from sklearn.metrics import classification_report, f1_score, accuracy_score, confusion_matrix\n",
    "from sklearn.pipeline import Pipeline\n",
    "from sklearn.cross_validation import StratifiedKFold, cross_val_score "
   ]
  },
  {
   "cell_type": "code",
   "execution_count": 5,
   "metadata": {
    "collapsed": false
   },
   "outputs": [
    {
     "name": "stdout",
     "output_type": "stream",
     "text": [
      "50001\n"
     ]
    }
   ],
   "source": [
    "# Read the data\n",
    "reviews = [line.rstrip() for line in open(\"/Users/mam/CORE/RESEARCH/DEEPLEARNING/Doc2Vec/data/aclImdb/alldata_2column.txt\")]\n",
    "print(len(reviews))"
   ]
  },
  {
   "cell_type": "code",
   "execution_count": 6,
   "metadata": {
    "collapsed": false
   },
   "outputs": [
    {
     "name": "stdout",
     "output_type": "stream",
     "text": [
      "\"label\",\"message\"\n",
      "\"1\",\"bromwell high is a cartoon comedy . it ran at the same time as some other programs about school life  such as \"\" teachers \"\" . my 35 years in the teaching profession lead me to believe that bromwell high's satire is much closer to reality than is \"\" teachers \"\" . the scramble to survive financially  the insightful students who can see right through their pathetic teachers' pomp  the pettiness of the whole situation  all remind me of the schools i knew and their students . when i saw the episode in which a student repeatedly tried to burn down the school  i immediately recalled . . . . . . . . . at . . . . . . . . . . high . a classic line : inspector : i'm here to sack one of your teachers . student : welcome to bromwell high . i expect that many adults of my age think that bromwell high is far fetched . what a pity that it isn't !\"\n"
     ]
    }
   ],
   "source": [
    "# The data have a header and we print it\n",
    "print(reviews[0])\n",
    "# print first data point.\n",
    "# data format is each review as a line, csv\n",
    "# clomun one is the sentiment tag --> 1=positive sentiment, 0=negative sentiment\n",
    "# column 2 is the review\n",
    "print(reviews[1])"
   ]
  },
  {
   "cell_type": "code",
   "execution_count": 8,
   "metadata": {
    "collapsed": false
   },
   "outputs": [
    {
     "data": {
      "text/html": [
       "<div>\n",
       "<table border=\"1\" class=\"dataframe\">\n",
       "  <thead>\n",
       "    <tr style=\"text-align: right;\">\n",
       "      <th></th>\n",
       "      <th>label</th>\n",
       "      <th>message</th>\n",
       "    </tr>\n",
       "  </thead>\n",
       "  <tbody>\n",
       "    <tr>\n",
       "      <th>0</th>\n",
       "      <td>\"label\"</td>\n",
       "      <td>\"message\"</td>\n",
       "    </tr>\n",
       "    <tr>\n",
       "      <th>1</th>\n",
       "      <td>\"1\"</td>\n",
       "      <td>\"bromwell high is a cartoon comedy . it ran at...</td>\n",
       "    </tr>\n",
       "    <tr>\n",
       "      <th>2</th>\n",
       "      <td>\"1\"</td>\n",
       "      <td>\"homelessness ( or houselessness as george car...</td>\n",
       "    </tr>\n",
       "    <tr>\n",
       "      <th>3</th>\n",
       "      <td>\"1\"</td>\n",
       "      <td>\"brilliant over-acting by lesley ann warren . ...</td>\n",
       "    </tr>\n",
       "    <tr>\n",
       "      <th>4</th>\n",
       "      <td>\"1\"</td>\n",
       "      <td>\"this is easily the most underrated film inn t...</td>\n",
       "    </tr>\n",
       "  </tbody>\n",
       "</table>\n",
       "</div>"
      ],
      "text/plain": [
       "     label                                            message\n",
       "0  \"label\"                                          \"message\"\n",
       "1      \"1\"  \"bromwell high is a cartoon comedy . it ran at...\n",
       "2      \"1\"  \"homelessness ( or houselessness as george car...\n",
       "3      \"1\"  \"brilliant over-acting by lesley ann warren . ...\n",
       "4      \"1\"  \"this is easily the most underrated film inn t..."
      ]
     },
     "execution_count": 8,
     "metadata": {},
     "output_type": "execute_result"
    }
   ],
   "source": [
    "# Let's actually read the file again with pandas\n",
    "import csv\n",
    "import pandas as pd\n",
    "reviews = pd.read_csv(\"/Users/mam/CORE/RESEARCH/DEEPLEARNING/Doc2Vec/data/aclImdb/alldata_2column.txt\",\\\n",
    "                      sep=',', quoting=csv.QUOTE_NONE,  names=[\"label\", \"message\"])\n",
    "\n",
    "# Let's print a preview with the \"head\" command\n",
    "reviews.head(n=5)"
   ]
  },
  {
   "cell_type": "code",
   "execution_count": 9,
   "metadata": {
    "collapsed": false
   },
   "outputs": [
    {
     "name": "stderr",
     "output_type": "stream",
     "text": [
      "/Users/mam/anaconda/lib/python2.7/site-packages/sklearn/cross_validation.py:516: Warning: The least populated class in y has only 1 members, which is too few. The minimum number of labels for any class cannot be less than n_folds=10.\n",
      "  % (min_labels, self.n_folds)), Warning)\n"
     ]
    },
    {
     "name": "stdout",
     "output_type": "stream",
     "text": [
      "[ 0.82083583  0.8122      0.8234      0.8028      0.8204      0.834       0.8218\n",
      "  0.8372      0.8034      0.8082    ]\n"
     ]
    }
   ],
   "source": [
    "reviews_data=reviews[\"message\"]\n",
    "reviews_tags=reviews[\"label\"]\n",
    "\n",
    "pipeline = Pipeline([\n",
    "    ('bow', CountVectorizer(analyzer='word')),  # get counts of tokens\n",
    "    ('tfidf', TfidfTransformer()),  # get tf-idf scores\n",
    "    ('classifier', MultinomialNB()),  # train on tf-idf vectors  with the Naive Bayes classifier\n",
    "])\n",
    "\n",
    "# Do 10-fold cross validation\n",
    "scores = cross_val_score(pipeline,  \n",
    "                         reviews_data,  \n",
    "                         reviews_tags,  \n",
    "                         cv=10, \n",
    "                         scoring='accuracy',\n",
    "                         n_jobs=-1, # use all machine cores\n",
    "                         )\n",
    "print(scores)"
   ]
  },
  {
   "cell_type": "code",
   "execution_count": 11,
   "metadata": {
    "collapsed": false
   },
   "outputs": [
    {
     "name": "stdout",
     "output_type": "stream",
     "text": [
      "0.818423583283\n"
     ]
    }
   ],
   "source": [
    "# Let's get average accuracy...\n",
    "avg= sum(scores/10.0)\n",
    "print(avg)"
   ]
  }
 ],
 "metadata": {
  "kernelspec": {
   "display_name": "Python 2",
   "language": "python",
   "name": "python2"
  },
  "language_info": {
   "codemirror_mode": {
    "name": "ipython",
    "version": 2
   },
   "file_extension": ".py",
   "mimetype": "text/x-python",
   "name": "python",
   "nbconvert_exporter": "python",
   "pygments_lexer": "ipython2",
   "version": "2.7.12"
  }
 },
 "nbformat": 4,
 "nbformat_minor": 0
}
