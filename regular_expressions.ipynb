{
 "cells": [
  {
   "cell_type": "markdown",
   "metadata": {},
   "source": [
    "# Regular Expressions in Python"
   ]
  },
  {
   "cell_type": "raw",
   "metadata": {},
   "source": [
    "Python provides a powerful regular expression module (re).\n",
    "A regular expression is a special sequence of characters of which you can \n",
    "think as rules that helps us match certain types of content \n",
    "within string literals. "
   ]
  },
  {
   "cell_type": "markdown",
   "metadata": {},
   "source": [
    "## The backslash \"\\\" & Raw Strings"
   ]
  },
  {
   "cell_type": "raw",
   "metadata": {},
   "source": [
    "From your knowledge of string literals, you already know that \n",
    "a backslash \"\\\" is interpreted by the Python parser as an escape\n",
    "character. For example, in the following string, in order to use an internal quotes, we have to skip them by the backslash character \"\\\"."
   ]
  },
  {
   "cell_type": "code",
   "execution_count": 2,
   "metadata": {
    "collapsed": false
   },
   "outputs": [
    {
     "name": "stdout",
     "output_type": "stream",
     "text": [
      "This is a string literal that has a quote \" character.\n"
     ]
    }
   ],
   "source": [
    "text= \"This is a string literal that has a quote \\\" character.\" \n",
    "print(text)"
   ]
  },
  {
   "cell_type": "raw",
   "metadata": {},
   "source": [
    "The parser also interprets the backslash in specific ways when followed by \n",
    "specific sequences of characters. For example, the parser replaces the \n",
    "‘\\n’ excape sequence by a newline character."
   ]
  },
  {
   "cell_type": "code",
   "execution_count": 3,
   "metadata": {
    "collapsed": false
   },
   "outputs": [
    {
     "name": "stdout",
     "output_type": "stream",
     "text": [
      "This has a quote \" char followed by \n",
      "\n",
      "\n",
      " three new lines!!.\n"
     ]
    }
   ],
   "source": [
    "text= \"This has a quote \\\" char followed by \\n\\n\\n three new lines!!.\" \n",
    "print(text)"
   ]
  },
  {
   "cell_type": "raw",
   "metadata": {},
   "source": [
    "The re module itself also makes use of\n",
    "backslash characters to escape special regex characters, which results in \n",
    "us needing to having to escape the escape character itself at times.\n",
    "This relsults in unreadable code. A good solution to this problem is to use what is known as a \"raw string\", which is simply achieved by prefixing\n",
    "a string literal with the ‘r’ character (right before the opening quote of the string). When we do this, the parser will treat the string literal as is without attempting to make any internal substitutions. See the example below:"
   ]
  },
  {
   "cell_type": "code",
   "execution_count": 4,
   "metadata": {
    "collapsed": false
   },
   "outputs": [
    {
     "name": "stdout",
     "output_type": "stream",
     "text": [
      "This has a quote \\\" char followed by \\n\\n\\n three new lines!!.\n"
     ]
    }
   ],
   "source": [
    "raw_text= r\"This has a quote \\\" char followed by \\n\\n\\n three new lines!!.\" \n",
    "print(raw_text)"
   ]
  },
  {
   "cell_type": "markdown",
   "metadata": {},
   "source": [
    "## And Three for the Road: match(), search(), and findall()"
   ]
  },
  {
   "cell_type": "code",
   "execution_count": 5,
   "metadata": {
    "collapsed": false
   },
   "outputs": [
    {
     "data": {
      "text/plain": [
       "<_sre.SRE_Match at 0x105bacf38>"
      ]
     },
     "execution_count": 5,
     "metadata": {},
     "output_type": "execute_result"
    }
   ],
   "source": [
    "# match() will only find matches if they occur at the beginning of \n",
    "# the searched string:\n",
    "import re\n",
    "text=\"apple berry orange berry\"\n",
    "re.match(r'apple',text)"
   ]
  },
  {
   "cell_type": "code",
   "execution_count": 6,
   "metadata": {
    "collapsed": false
   },
   "outputs": [
    {
     "data": {
      "text/plain": [
       "'apple'"
      ]
     },
     "execution_count": 6,
     "metadata": {},
     "output_type": "execute_result"
    }
   ],
   "source": [
    "#The above means there is a match and Python is returning the matching \n",
    "# Object. \n",
    "# We can access the matched pattern with: group(0)\n",
    "my_match=re.match(r'apple',text)\n",
    "my_match.group(0)"
   ]
  },
  {
   "cell_type": "code",
   "execution_count": 29,
   "metadata": {
    "collapsed": false
   },
   "outputs": [
    {
     "name": "stdout",
     "output_type": "stream",
     "text": [
      "None\n"
     ]
    }
   ],
   "source": [
    "# Since \"berry\" is not in the beginning of the string, there will be\n",
    "# no match.\n",
    "print(re.match(r'berry',text))"
   ]
  },
  {
   "cell_type": "code",
   "execution_count": 21,
   "metadata": {
    "collapsed": false
   },
   "outputs": [
    {
     "name": "stdout",
     "output_type": "stream",
     "text": [
      "<_sre.SRE_Match object at 0x106d33780>\n",
      "<_sre.SRE_Match object at 0x106d33780>\n",
      "<_sre.SRE_Match object at 0x106d33780>\n"
     ]
    }
   ],
   "source": [
    "# search() is like match(), excpet that it is not restricted to finding a match\n",
    "# at the beginning: It will find a match anywhere in the string:\n",
    "print(re.search(r'berry',text))\n",
    "print(re.search(r'apple',text))\n",
    "print(re.search(r'orange',text))"
   ]
  },
  {
   "cell_type": "code",
   "execution_count": 45,
   "metadata": {
    "collapsed": false
   },
   "outputs": [
    {
     "data": {
      "text/plain": [
       "'berry'"
      ]
     },
     "execution_count": 45,
     "metadata": {},
     "output_type": "execute_result"
    }
   ],
   "source": [
    "# Note that search() stops looking after it finds the first match.\n",
    "# As such, even though there are wto examples of the string \"berry\",\n",
    "# match() only returns one match (the first match)\n",
    "my_berry_match=re.search(r'berry',text)\n",
    "my_berry_match.group(0)"
   ]
  },
  {
   "cell_type": "code",
   "execution_count": 43,
   "metadata": {
    "collapsed": false
   },
   "outputs": [
    {
     "name": "stdout",
     "output_type": "stream",
     "text": [
      "Start index: 6\n",
      "End   index: 11\n"
     ]
    }
   ],
   "source": [
    "# We can actually access the indexes of the matched \"berry\" string:\n",
    "start=my_berry_match.start()\n",
    "end=my_berry_match.end()\n",
    "print(\"Start index: %s\" % start)\n",
    "print(\"End   index: %s\" % end)"
   ]
  },
  {
   "cell_type": "code",
   "execution_count": 43,
   "metadata": {
    "collapsed": false
   },
   "outputs": [
    {
     "name": "stdout",
     "output_type": "stream",
     "text": [
      "berry\n"
     ]
    }
   ],
   "source": [
    "print(text[6:11])"
   ]
  },
  {
   "cell_type": "code",
   "execution_count": 67,
   "metadata": {
    "collapsed": false
   },
   "outputs": [
    {
     "name": "stdout",
     "output_type": "stream",
     "text": [
      "['berry', 'berry']\n"
     ]
    }
   ],
   "source": [
    "# findall() is like search(), but is exhaustive: It finds all the matches\n",
    "all_berry_matches=re.findall(r'berry',text)\n",
    "print(all_berry_matches)"
   ]
  },
  {
   "cell_type": "code",
   "execution_count": 49,
   "metadata": {
    "collapsed": false
   },
   "outputs": [
    {
     "data": {
      "text/plain": [
       "'berry'"
      ]
     },
     "execution_count": 49,
     "metadata": {},
     "output_type": "execute_result"
    }
   ],
   "source": [
    "# Since it returns a list of what matched, findall() does not work with\n",
    "# grouping. Instead, just access each item in the returned list as \n",
    "# what would have been a group \n",
    "all_berry_matches[0]"
   ]
  },
  {
   "cell_type": "markdown",
   "metadata": {},
   "source": [
    "### More on Grouping"
   ]
  },
  {
   "cell_type": "code",
   "execution_count": 46,
   "metadata": {
    "collapsed": false
   },
   "outputs": [
    {
     "name": "stdout",
     "output_type": "stream",
     "text": [
      "#hashtag1\n",
      "#hashtag2\n"
     ]
    }
   ],
   "source": [
    "# We can surround certain surround certain parts of the regex in paranthese\n",
    "# and access them later on via group numbers\n",
    "tweet=\"This is a tweet with #hashtag1 and #hashtag2 https://cnn.com\"\n",
    "my_hashtags=re.search(r'(#\\S+)\\s+\\S+\\s+(#\\S+)', tweet)\n",
    "print(my_hashtags.group(1)) # whatever is in the first ()\n",
    "print(my_hashtags.group(2)) # whatever is in the second ()"
   ]
  },
  {
   "cell_type": "code",
   "execution_count": 47,
   "metadata": {
    "collapsed": false
   },
   "outputs": [
    {
     "name": "stdout",
     "output_type": "stream",
     "text": [
      "<_sre.SRE_Match object at 0x106be5d78>\n"
     ]
    }
   ],
   "source": [
    "print(my_hashtags)"
   ]
  },
  {
   "cell_type": "code",
   "execution_count": 53,
   "metadata": {
    "collapsed": false
   },
   "outputs": [
    {
     "name": "stdout",
     "output_type": "stream",
     "text": [
      " and \n"
     ]
    }
   ],
   "source": [
    "# We can surround certain surround certain parts of the regex in paranthese\n",
    "# and access them later on via group numbers\n",
    "tweet=\"This is a tweet with #hashtag1 and #hashtag2 https://cnn.com\"\n",
    "my_hashtags=re.search(r'(#\\S+)(?P<my_and_group>\\s+\\S+\\s+)(#\\S+)', tweet)\n",
    "print(my_hashtags.group(\"my_and_group\")) "
   ]
  },
  {
   "cell_type": "code",
   "execution_count": 51,
   "metadata": {
    "collapsed": false
   },
   "outputs": [
    {
     "name": "stdout",
     "output_type": "stream",
     "text": [
      "None\n"
     ]
    }
   ],
   "source": [
    "#tweet=\"This is a tweet with #hashtag1 and #hashtag2 https://cnn.com\"\n",
    "tweet_modified=\"This is a tweet with #hashtag1 #hashtag2 https://cnn.com\"\n",
    "\n",
    "my_hashtags=re.search(r'#\\S+\\s+\\S+\\s+#\\S+', tweet_modified)\n",
    "print(my_hashtags)"
   ]
  },
  {
   "cell_type": "code",
   "execution_count": null,
   "metadata": {
    "collapsed": true
   },
   "outputs": [],
   "source": [
    "# (#\\S+) matches a hashtag \"#\", followed by one or more non-whitespaces\n",
    "#----------------------------------------\n",
    "# \\s+ matches one or more whitespaces\n",
    "#----------------------------------------\n",
    "# \\s+\\S+\\s+: Basically matches the \" and \" in the tweet, \n",
    "# (note the preceding and following spaces)."
   ]
  },
  {
   "cell_type": "code",
   "execution_count": 70,
   "metadata": {
    "collapsed": false
   },
   "outputs": [
    {
     "name": "stdout",
     "output_type": "stream",
     "text": [
      "('#hashtag1', '#hashtag2')\n"
     ]
    }
   ],
   "source": [
    "# groups() will return all matched groups as a tuple:\n",
    "print(my_hashtags.groups())"
   ]
  },
  {
   "cell_type": "code",
   "execution_count": 65,
   "metadata": {
    "collapsed": false
   },
   "outputs": [
    {
     "name": "stdout",
     "output_type": "stream",
     "text": [
      "['#hashtag1', '#hashtag2']\n"
     ]
    }
   ],
   "source": [
    "# The pattern with search() above is useful if you specifically wanted\n",
    "# a pattern that has \"hashtag+space(s)+and+space(s)+hashtag\"\n",
    "# If you want just to get all hashtags in a tweet, just use \"findall\"\n",
    "my_hashtags=re.findall(r'(#\\S+)', tweet)\n",
    "print(my_hashtags)"
   ]
  },
  {
   "cell_type": "code",
   "execution_count": 12,
   "metadata": {
    "collapsed": false
   },
   "outputs": [
    {
     "name": "stdout",
     "output_type": "stream",
     "text": [
      "['https://cnn.com']\n"
     ]
    }
   ],
   "source": [
    "my_url=re.findall(r'(https://\\S+.\\S+)', tweet)\n",
    "print(my_url)"
   ]
  },
  {
   "cell_type": "markdown",
   "metadata": {},
   "source": [
    "### Compiling for Re-Use"
   ]
  },
  {
   "cell_type": "code",
   "execution_count": 16,
   "metadata": {
    "collapsed": false
   },
   "outputs": [
    {
     "name": "stdout",
     "output_type": "stream",
     "text": [
      "['#hashtag1', '#hashtag2', 'https://cnn.com']\n"
     ]
    }
   ],
   "source": [
    "# Compile a pattern for reuse.\n",
    "#------------------------------\n",
    "# The \"|\" helps us match a hashtag or an URL (so if both exist,\n",
    "# we capture BOTH)\n",
    "p=re.compile(r'(#\\S+|https://\\S+.\\S+)')\n",
    "matches=re.findall(p, tweet) # \n",
    "print(matches)"
   ]
  },
  {
   "cell_type": "markdown",
   "metadata": {},
   "source": [
    "### Sidenote: re.sub with grouping"
   ]
  },
  {
   "cell_type": "code",
   "execution_count": 63,
   "metadata": {
    "collapsed": false
   },
   "outputs": [
    {
     "name": "stdout",
     "output_type": "stream",
     "text": [
      "This is a tweet with <HASHTAG> and <HASHTAG>\n"
     ]
    }
   ],
   "source": [
    "# Using the paranthes to capture a group is useful\n",
    "# if you wanted to substitute\n",
    "new_tweet=re.sub(r'(#\\S+)', '<HASHTAG>', tweet)\n",
    "print(new_tweet)"
   ]
  },
  {
   "cell_type": "code",
   "execution_count": 8,
   "metadata": {
    "collapsed": false
   },
   "outputs": [
    {
     "name": "stdout",
     "output_type": "stream",
     "text": [
      "This is a tweet with <HASHTAG> and <HASHTAG>\n"
     ]
    }
   ],
   "source": [
    "new_tweet=re.sub(r'(#\\S+)', '<HASHTAG>', tweet)\n",
    "print(new_tweet)"
   ]
  },
  {
   "cell_type": "markdown",
   "metadata": {},
   "source": [
    "### Grouping by name"
   ]
  },
  {
   "cell_type": "code",
   "execution_count": 64,
   "metadata": {
    "collapsed": false
   },
   "outputs": [
    {
     "name": "stdout",
     "output_type": "stream",
     "text": [
      "#hashtag1\n",
      "#hashtag2\n"
     ]
    }
   ],
   "source": [
    "# Add ?P<name> before a pattern to group by name\n",
    "my_hashtags=re.search(r'(?P<first>#\\S+)\\s+\\S+\\s+(?P<second>#\\S+)', tweet)\n",
    "print(my_hashtags.group(\"first\")) # whatever is in the first ()\n",
    "print(my_hashtags.group(\"second\")) # whatever is in the second ()"
   ]
  },
  {
   "cell_type": "code",
   "execution_count": 28,
   "metadata": {
    "collapsed": false
   },
   "outputs": [
    {
     "data": {
      "text/plain": [
       "['interesting', 'last']"
      ]
     },
     "execution_count": 28,
     "metadata": {},
     "output_type": "execute_result"
    }
   ],
   "source": [
    "# Find all words with the character \"s\"\n",
    "story=\"Samy told me an interesting story was airing on CBC last night...\"\n",
    "re.findall(r'\\w+s\\w+', story)"
   ]
  },
  {
   "cell_type": "code",
   "execution_count": 34,
   "metadata": {
    "collapsed": false
   },
   "outputs": [
    {
     "data": {
      "text/plain": [
       "['interesting', 'story', 'was', 'last']"
      ]
     },
     "execution_count": 34,
     "metadata": {},
     "output_type": "execute_result"
    }
   ],
   "source": [
    "# Since \\w* matches zero or more characters, we can get all words\n",
    "# with \"s\" as follows:\n",
    "re.findall(r'\\w*s\\w*', story)"
   ]
  },
  {
   "cell_type": "code",
   "execution_count": 35,
   "metadata": {
    "collapsed": false
   },
   "outputs": [
    {
     "data": {
      "text/plain": [
       "['Samy', 'interesting', 'story', 'was', 'last']"
      ]
     },
     "execution_count": 35,
     "metadata": {},
     "output_type": "execute_result"
    }
   ],
   "source": [
    "# Well, almost! Let's ignore case with \"re.I\" to catch \"Samy\" as well.\n",
    "re.findall(r'\\w*s\\w*', story, re.I)"
   ]
  }
 ],
 "metadata": {
  "kernelspec": {
   "display_name": "Python 2",
   "language": "python",
   "name": "python2"
  },
  "language_info": {
   "codemirror_mode": {
    "name": "ipython",
    "version": 2
   },
   "file_extension": ".py",
   "mimetype": "text/x-python",
   "name": "python",
   "nbconvert_exporter": "python",
   "pygments_lexer": "ipython2",
   "version": "2.7.12"
  }
 },
 "nbformat": 4,
 "nbformat_minor": 0
}
